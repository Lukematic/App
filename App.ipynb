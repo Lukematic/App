{
 "cells": [
  {
   "cell_type": "code",
   "execution_count": 4,
   "metadata": {},
   "outputs": [
    {
     "ename": "AttributeError",
     "evalue": "'GradientBoostingClassifier' object has no attribute 'load_model'",
     "output_type": "error",
     "traceback": [
      "\u001b[1;31m---------------------------------------------------------------------------\u001b[0m",
      "\u001b[1;31mAttributeError\u001b[0m                            Traceback (most recent call last)",
      "\u001b[1;32m<ipython-input-4-473e1a08c97e>\u001b[0m in \u001b[0;36m<module>\u001b[1;34m\u001b[0m\n\u001b[0;32m     10\u001b[0m \u001b[1;31m# load model\u001b[0m\u001b[1;33m\u001b[0m\u001b[1;33m\u001b[0m\u001b[1;33m\u001b[0m\u001b[0m\n\u001b[0;32m     11\u001b[0m \u001b[0mbest_model\u001b[0m \u001b[1;33m=\u001b[0m  \u001b[0mGradientBoostingClassifier\u001b[0m\u001b[1;33m(\u001b[0m\u001b[1;33m)\u001b[0m\u001b[1;33m\u001b[0m\u001b[1;33m\u001b[0m\u001b[0m\n\u001b[1;32m---> 12\u001b[1;33m \u001b[0mbest_model\u001b[0m\u001b[1;33m.\u001b[0m\u001b[0mload_model\u001b[0m\u001b[1;33m(\u001b[0m\u001b[1;34m\"best_model.json\"\u001b[0m\u001b[1;33m)\u001b[0m\u001b[1;33m\u001b[0m\u001b[1;33m\u001b[0m\u001b[0m\n\u001b[0m\u001b[0;32m     13\u001b[0m \u001b[1;31m#show df\u001b[0m\u001b[1;33m\u001b[0m\u001b[1;33m\u001b[0m\u001b[1;33m\u001b[0m\u001b[0m\n\u001b[0;32m     14\u001b[0m \u001b[1;32mif\u001b[0m \u001b[0mst\u001b[0m\u001b[1;33m.\u001b[0m\u001b[0mcheckbox\u001b[0m\u001b[1;33m(\u001b[0m\u001b[1;34m'Show dataframe'\u001b[0m\u001b[1;33m)\u001b[0m\u001b[1;33m:\u001b[0m\u001b[1;33m\u001b[0m\u001b[1;33m\u001b[0m\u001b[0m\n",
      "\u001b[1;31mAttributeError\u001b[0m: 'GradientBoostingClassifier' object has no attribute 'load_model'"
     ]
    }
   ],
   "source": [
    "#load the packages\n",
    "import streamlit as st\n",
    "from sklearn.ensemble import GradientBoostingClassifier\n",
    "import pandas as pd\n",
    "import numpy as np\n",
    "#title for the app\n",
    "st.title('Predicting student ELPAC scores')\n",
    "import pickle\n",
    "data= pd.read_csv('https://raw.githubusercontent.com/OscarG-DataSci/ADS-599B/main/Data%20Folder/new_elpac.csv')\n",
    "# load model\n",
    "best_model =  GradientBoostingClassifier()\n",
    "best_model.load_model(\"best_model.json\")\n",
    "#show df\n",
    "if st.checkbox('Show dataframe'):\n",
    "    data\n",
    "st.subheader(\"Please select relevant features of your Student!\")\n",
    "left_column, right_column = st.columns(2)\n",
    "with left_column:\n",
    "    inp_species = st.radio(\n",
    "        'grade_student:',\n",
    "        np.unique(data['GradeLevel']))\n",
    "input_Length1 = st.slider('Vertical length(cm)', 0.0, max(data[\"TotalAssesments\"]), 1.0)\n",
    "input_Length2 = st.slider('Diagonal length(cm)', 0.0, max(data[\"DaysAttended\"]), 1.0)\n",
    "input_Length3 = st.slider('Cross length(cm)', 0.0, max(data[\"ExpectedAttendanceDays\"]), 1.0)\n",
    "input_Height = st.slider('Height(cm)', 0.0, max(data[\"OverallScore\"]), 1.0)\n",
    "input_Width = st.slider('Diagonal width(cm)', 0.0, max(data[\"GradeLevel\"]), 1.0)\n",
    "if st.button('Make Prediction'):\n",
    "    input_species = encoder.transform(np.expand_dims(inp_species, -1))\n",
    "    inputs = np.expand_dims(\n",
    "        [int(input_species), input_Length1, input_Length2, input_Length3, input_Height, input_Width], 0)\n",
    "    prediction = best_xgboost_model.predict(inputs)\n",
    "    print(\"final pred\", np.squeeze(prediction, -1))\n",
    "    st.write(f\"Your fish weight is: {np.squeeze(prediction, -1)} Gram\")"
   ]
  }
 ],
 "metadata": {
  "kernelspec": {
   "display_name": "Python 3.6.13",
   "language": "python",
   "name": "python3"
  },
  "language_info": {
   "codemirror_mode": {
    "name": "ipython",
    "version": 3
   },
   "file_extension": ".py",
   "mimetype": "text/x-python",
   "name": "python",
   "nbconvert_exporter": "python",
   "pygments_lexer": "ipython3",
   "version": "3.6.13"
  },
  "orig_nbformat": 4,
  "vscode": {
   "interpreter": {
    "hash": "b271b2fbd26211c9088b104b66108014c2d9c61646bef9efd2a3440d70ee1103"
   }
  }
 },
 "nbformat": 4,
 "nbformat_minor": 2
}
